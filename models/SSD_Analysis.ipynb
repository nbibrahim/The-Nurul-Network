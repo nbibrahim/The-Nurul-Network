{
 "cells": [
  {
   "cell_type": "code",
   "execution_count": 1,
   "metadata": {},
   "outputs": [],
   "source": [
    "import numpy as np\n",
    "from scipy.integrate import solve_ivp"
   ]
  },
  {
   "cell_type": "code",
   "execution_count": 117,
   "metadata": {},
   "outputs": [],
   "source": [
    "##Wavenumbers\n",
    "k = 12 * np.pi\n",
    "m = 6 * np.pi\n",
    "m_U = 14 * np.pi #vertical wavenumber\n",
    "\n",
    "r_m = 0.1\n",
    "N0_squared = 100\n",
    "\n",
    "k_e = np.sqrt(k**2 + m**2)\n",
    "k_plus = np.sqrt(k**2 +(m+m_U)**2)\n",
    "\n",
    "W_e = np.array([[-1, k / (k_e**2)],\n",
    "                [-k * N0_squared, -1]])\n",
    "W_plus = np.array([[-1, -k / (k_plus**2)],\n",
    "                [k * N0_squared, -1]])\n",
    "\n",
    "W = np.block([[W_e, np.zeros((2, 2))],\n",
    "             [np.zeros((2, 2)), W_plus]])\n",
    "\n",
    "L_e = np.array([[-(k*(k_plus**2 - m_U**2)) / (2 * (k_e**2)), 0],\n",
    "                [0, k / 2]])\n",
    "\n",
    "L_plus = np.array([[-(k*(m_U**2 - k_e**2)) / (2 * (k_plus**2)), 0],\n",
    "                [0, -k / 2]])\n",
    "\n",
    "L = np.block([[np.zeros((2, 2)), L_e],\n",
    "             [L_plus, np.zeros((2, 2))]])\n",
    "\n",
    "alpha = 0.25 * k * (k_plus**2 - k_e**2)\n",
    "r = 0.1\n",
    "epsilon = 0.01\n",
    "\n",
    "Q_1 = np.array([(2 * np.sqrt(2) / k_e), 0, 0, 0])\n",
    "Q2 = np.array([0, 0, 0, 0])\n",
    "Q3 = np.array([0, 0, 0, 0])\n",
    "Q4 = np.array([0, 0, 0, 0])\n",
    "\n",
    "Q = np.block([[Q_1], [Q2], [Q3], [Q4]])\n",
    "\n",
    "\n",
    "# Define the ODE system for finding C*\n",
    "def equilibrium_ode(t, y):\n",
    "    U = y[0]  \n",
    "    C = y[1:].reshape((4, 4))  \n",
    "    dUdt = -alpha * C[0, 2] - r * U  \n",
    "    dCdt = W @ C + C @ W.T + epsilon * Q  \n",
    "    return np.concatenate(([dUdt], dCdt.flatten()))  \n",
    "\n",
    "# Initial conditions\n",
    "U0 = 0.0  \n",
    "C0 = np.zeros((4, 4)).flatten() \n",
    "\n",
    "# Time span\n",
    "t_span = (0, 600) \n",
    "t_eval = np.linspace(*t_span, 15000) \n",
    "\n",
    "# Solve ODEs to find C*\n",
    "equilibrium_solution = solve_ivp(\n",
    "    equilibrium_ode,\n",
    "    t_span,\n",
    "    np.concatenate(([U0], C0)),\n",
    "    method='RK45',  \n",
    "    t_eval=t_eval\n",
    ")\n",
    "\n",
    "# Extract C* at equilibrium\n",
    "C_star = equilibrium_solution.y[1:, -1].reshape((4, 4))  \n",
    "\n",
    "# # Ensure that the solution has reached a steady state by checking if the derivative is near zero\n",
    "# steady_state_tolerance = 1e-1  \n",
    "# is_steady_state = np.all(np.abs(equilibrium_solution.y[:, -1] - equilibrium_solution.y[:, -10]) < steady_state_tolerance)\n",
    "\n",
    "# if is_steady_state:\n",
    "#     print(\"Equilibrium reached.\")\n",
    "# else:\n",
    "#     print(\"Equilibrium not reached\")"
   ]
  },
  {
   "cell_type": "code",
   "execution_count": 118,
   "metadata": {},
   "outputs": [
    {
     "name": "stdout",
     "output_type": "stream",
     "text": [
      "[[ 1.69938748e-04 -7.90257626e-03  0.00000000e+00  0.00000000e+00]\n",
      " [-7.90257626e-03  2.94174217e+01  0.00000000e+00  0.00000000e+00]\n",
      " [ 0.00000000e+00  0.00000000e+00  0.00000000e+00  0.00000000e+00]\n",
      " [ 0.00000000e+00  0.00000000e+00  0.00000000e+00  0.00000000e+00]]\n"
     ]
    }
   ],
   "source": [
    "print(C_star)"
   ]
  },
  {
   "cell_type": "code",
   "execution_count": 119,
   "metadata": {},
   "outputs": [],
   "source": [
    "C_star_array = np.array([C_star[0,0], C_star[0,1], C_star[0,2], C_star[0,3], C_star[1,0], C_star[1,1], C_star[1,2], C_star[1,3], C_star[2,0], C_star[2,1], C_star[2,2], C_star[2,3], C_star[3,0], C_star[3,1], C_star[3,2], C_star[3,3]])\n",
    "W_array = np.array([W[0,0], W[0,1], W[0,2], W[0,3], W[1,0], W[1,1], W[1,2], W[1,3], W[2,0], W[2,1], W[2,2], W[2,3], W[3,0], W[3,1], W[3,2], W[3,3]])\n",
    "L_array = np.array([L[0,0], L[0,1], L[0,2], L[0,3], L[1,0], L[1,1], L[1,2], L[1,3], L[2,0], L[2,1], L[2,2], L[2,3], L[3,0], L[3,1], L[3,2], L[3,3]])"
   ]
  },
  {
   "cell_type": "code",
   "execution_count": 120,
   "metadata": {},
   "outputs": [
    {
     "name": "stdout",
     "output_type": "stream",
     "text": [
      "C_star =  [[ 1.69938748e-04 -7.90257626e-03  0.00000000e+00  0.00000000e+00]\n",
      " [-7.90257626e-03  2.94174217e+01  0.00000000e+00  0.00000000e+00]\n",
      " [ 0.00000000e+00  0.00000000e+00  0.00000000e+00  0.00000000e+00]\n",
      " [ 0.00000000e+00  0.00000000e+00  0.00000000e+00  0.00000000e+00]]\n",
      "W =  [[-1.00000000e+00  2.12206591e-02  0.00000000e+00  0.00000000e+00]\n",
      " [-3.76991118e+03 -1.00000000e+00  0.00000000e+00  0.00000000e+00]\n",
      " [ 0.00000000e+00  0.00000000e+00 -1.00000000e+00 -7.02154161e-03]\n",
      " [ 0.00000000e+00  0.00000000e+00  3.76991118e+03 -1.00000000e+00]]\n",
      "L =  [[  0.           0.         -36.44247478   0.        ]\n",
      " [  0.           0.           0.          18.84955592]\n",
      " [ -0.5543987    0.           0.           0.        ]\n",
      " [  0.         -18.84955592   0.           0.        ]]\n"
     ]
    }
   ],
   "source": [
    "C_star_array = np.reshape(C_star_array, (4,4))\n",
    "W_array = np.reshape(W_array, (4,4))\n",
    "L_array = np.reshape(L_array, (4,4))\n",
    "print(\"C_star = \", C_star_array)\n",
    "print(\"W = \", W_array)\n",
    "print(\"L = \", L_array)"
   ]
  },
  {
   "cell_type": "code",
   "execution_count": 121,
   "metadata": {},
   "outputs": [],
   "source": [
    "import sympy as sp\n",
    "\n",
    "delta_U = sp.symbols('delta_U')\n",
    "delta_C_vars = sp.symbols(' '.join(f'delta_C{i}{j}' for i in range(1, 5) for j in range(i, 5)))\n",
    "\n",
    "def get_delta_C_index(i, j):\n",
    "    if i > j:\n",
    "        return None\n",
    "    return sum([4 - k for k in range(i)]) + (j - i)\n",
    "\n",
    "C_star_elements = sp.symbols(' '.join(f'C_star{i}{j}' for i in range(1, 5) for j in range(1, 5)))\n",
    "C_star = sp.Matrix(4, 4, lambda i, j: C_star_elements[i*4+j] if i <= j else 0)\n",
    "\n",
    "\n",
    "delta_C = sp.Matrix(4, 4, lambda i, j: delta_C_vars[get_delta_C_index(i, j)] if i <= j else 0)\n",
    "\n",
    "W_elements = sp.symbols(' '.join(f'W{i}{j}' for i in range(1, 5) for j in range(1, 5)))\n",
    "L_elements = sp.symbols(' '.join(f'L{i}{j}' for i in range(1, 5) for j in range(1, 5)))\n",
    "W = sp.Matrix(4, 4, W_elements)\n",
    "L = sp.Matrix(4, 4, L_elements)\n",
    "\n",
    "epsilon, alpha, r = sp.symbols('epsilon alpha r')\n",
    "Q_elements = sp.symbols(' '.join(f'Q{i}{j}' for i in range(1, 5) for j in range(1, 5)))\n",
    "Q = sp.Matrix(4, 4, Q_elements)\n",
    "\n",
    "# All perturbation variables as a list\n",
    "all_vars = list(delta_C_vars) + [delta_U]\n",
    "\n",
    "# Left-hand side \n",
    "# d_delta_C_dt = (W * delta_C) + (delta_U * (L @ C_star)) + ((C_star @ (L.T)) * (delta_U)) + (delta_C @ (W.T))\n",
    "d_delta_C_dt = (W * delta_C) + (delta_U * (L @ C_star)) + ((C_star @ (L.T)) * (delta_U)) + (delta_C @ (W.T))\n",
    "d_delta_C_dt_vector = sp.Matrix([d_delta_C_dt[i, j] for i in range(4) for j in range(i, 4)])\n",
    "d_delta_U_dt = sp.Matrix([alpha * delta_C[0, 2] - r * delta_U])\n",
    "lhs = sp.Matrix.vstack(d_delta_C_dt_vector, d_delta_U_dt)\n",
    "\n",
    "rhs = sp.Matrix(all_vars)\n",
    "\n",
    "jacobian = lhs.jacobian(rhs)"
   ]
  },
  {
   "cell_type": "code",
   "execution_count": 122,
   "metadata": {},
   "outputs": [
    {
     "data": {
      "text/latex": [
       "$\\displaystyle \\left[\\begin{matrix}\\delta_{C11} & \\delta_{C12} & \\delta_{C13} & \\delta_{C14}\\\\0 & \\delta_{C22} & \\delta_{C23} & \\delta_{C24}\\\\0 & 0 & \\delta_{C33} & \\delta_{C34}\\\\0 & 0 & 0 & \\delta_{C44}\\end{matrix}\\right]$"
      ],
      "text/plain": [
       "Matrix([\n",
       "[delta_C11, delta_C12, delta_C13, delta_C14],\n",
       "[        0, delta_C22, delta_C23, delta_C24],\n",
       "[        0,         0, delta_C33, delta_C34],\n",
       "[        0,         0,         0, delta_C44]])"
      ]
     },
     "metadata": {},
     "output_type": "display_data"
    }
   ],
   "source": [
    "display(delta_C)"
   ]
  },
  {
   "cell_type": "code",
   "execution_count": 123,
   "metadata": {},
   "outputs": [
    {
     "data": {
      "text/latex": [
       "$\\displaystyle \\left[\\begin{array}{ccccccccccc}2 W_{11} & W_{12} & W_{13} & W_{14} & 0 & 0 & 0 & 0 & 0 & 0 & 2 C_{star11} L_{11} + C_{star12} L_{12} + C_{star13} L_{13} + C_{star14} L_{14}\\\\W_{21} & W_{11} + W_{22} & W_{23} & W_{24} & W_{12} & 0 & 0 & 0 & 0 & 0 & C_{star11} L_{21} + C_{star12} L_{11} + C_{star12} L_{22} + C_{star13} L_{23} + C_{star14} L_{24} + C_{star22} L_{12}\\\\W_{31} & W_{32} & W_{11} + W_{33} & W_{34} & 0 & W_{12} & 0 & W_{13} & 0 & 0 & C_{star11} L_{31} + C_{star12} L_{32} + C_{star13} L_{11} + C_{star13} L_{33} + C_{star14} L_{34} + C_{star23} L_{12} + C_{star33} L_{13}\\\\W_{41} & W_{42} & W_{43} & W_{11} + W_{44} & 0 & 0 & W_{12} & 0 & W_{13} & W_{14} & C_{star11} L_{41} + C_{star12} L_{42} + C_{star13} L_{43} + C_{star14} L_{11} + C_{star14} L_{44} + C_{star24} L_{12} + C_{star34} L_{13} + C_{star44} L_{14}\\\\0 & W_{21} & 0 & 0 & 2 W_{22} & W_{23} & W_{24} & 0 & 0 & 0 & C_{star12} L_{21} + 2 C_{star22} L_{22} + C_{star23} L_{23} + C_{star24} L_{24}\\\\0 & 0 & W_{21} & 0 & W_{32} & W_{22} + W_{33} & W_{34} & W_{23} & 0 & 0 & C_{star13} L_{21} + C_{star22} L_{32} + C_{star23} L_{22} + C_{star23} L_{33} + C_{star24} L_{34} + C_{star33} L_{23}\\\\0 & 0 & 0 & W_{21} & W_{42} & W_{43} & W_{22} + W_{44} & 0 & W_{23} & W_{24} & C_{star14} L_{21} + C_{star22} L_{42} + C_{star23} L_{43} + C_{star24} L_{22} + C_{star24} L_{44} + C_{star34} L_{23} + C_{star44} L_{24}\\\\0 & 0 & W_{31} & 0 & 0 & W_{32} & 0 & 2 W_{33} & W_{34} & 0 & C_{star13} L_{31} + C_{star23} L_{32} + 2 C_{star33} L_{33} + C_{star34} L_{34}\\\\0 & 0 & 0 & W_{31} & 0 & 0 & W_{32} & W_{43} & W_{33} + W_{44} & W_{34} & C_{star14} L_{31} + C_{star24} L_{32} + C_{star33} L_{43} + C_{star34} L_{33} + C_{star34} L_{44} + C_{star44} L_{34}\\\\0 & 0 & 0 & W_{41} & 0 & 0 & W_{42} & 0 & W_{43} & 2 W_{44} & C_{star14} L_{41} + C_{star24} L_{42} + C_{star34} L_{43} + 2 C_{star44} L_{44}\\\\0 & 0 & \\alpha & 0 & 0 & 0 & 0 & 0 & 0 & 0 & - r\\end{array}\\right]$"
      ],
      "text/plain": [
       "Matrix([\n",
       "[2*W11,       W12,       W13,       W14,     0,         0,         0,     0,         0,     0,                                                           2*C_star11*L11 + C_star12*L12 + C_star13*L13 + C_star14*L14],\n",
       "[  W21, W11 + W22,       W23,       W24,   W12,         0,         0,     0,         0,     0,                               C_star11*L21 + C_star12*L11 + C_star12*L22 + C_star13*L23 + C_star14*L24 + C_star22*L12],\n",
       "[  W31,       W32, W11 + W33,       W34,     0,       W12,         0,   W13,         0,     0,                C_star11*L31 + C_star12*L32 + C_star13*L11 + C_star13*L33 + C_star14*L34 + C_star23*L12 + C_star33*L13],\n",
       "[  W41,       W42,       W43, W11 + W44,     0,         0,       W12,     0,       W13,   W14, C_star11*L41 + C_star12*L42 + C_star13*L43 + C_star14*L11 + C_star14*L44 + C_star24*L12 + C_star34*L13 + C_star44*L14],\n",
       "[    0,       W21,         0,         0, 2*W22,       W23,       W24,     0,         0,     0,                                                           C_star12*L21 + 2*C_star22*L22 + C_star23*L23 + C_star24*L24],\n",
       "[    0,         0,       W21,         0,   W32, W22 + W33,       W34,   W23,         0,     0,                               C_star13*L21 + C_star22*L32 + C_star23*L22 + C_star23*L33 + C_star24*L34 + C_star33*L23],\n",
       "[    0,         0,         0,       W21,   W42,       W43, W22 + W44,     0,       W23,   W24,                C_star14*L21 + C_star22*L42 + C_star23*L43 + C_star24*L22 + C_star24*L44 + C_star34*L23 + C_star44*L24],\n",
       "[    0,         0,       W31,         0,     0,       W32,         0, 2*W33,       W34,     0,                                                           C_star13*L31 + C_star23*L32 + 2*C_star33*L33 + C_star34*L34],\n",
       "[    0,         0,         0,       W31,     0,         0,       W32,   W43, W33 + W44,   W34,                               C_star14*L31 + C_star24*L32 + C_star33*L43 + C_star34*L33 + C_star34*L44 + C_star44*L34],\n",
       "[    0,         0,         0,       W41,     0,         0,       W42,     0,       W43, 2*W44,                                                           C_star14*L41 + C_star24*L42 + C_star34*L43 + 2*C_star44*L44],\n",
       "[    0,         0,     alpha,         0,     0,         0,         0,     0,         0,     0,                                                                                                                    -r]])"
      ]
     },
     "metadata": {},
     "output_type": "display_data"
    }
   ],
   "source": [
    "display(jacobian)"
   ]
  },
  {
   "cell_type": "code",
   "execution_count": 124,
   "metadata": {},
   "outputs": [],
   "source": [
    "C_star_num = {\n",
    "    'C_star11': C_star_array[0,0], 'C_star12': C_star_array[0,1], 'C_star13': C_star_array[0,2], 'C_star14': C_star_array[0,3],\n",
    "    'C_star21': C_star_array[1,0], 'C_star22': C_star_array[1,1], 'C_star23': C_star_array[1,2], 'C_star24': C_star_array[1,3],\n",
    "    'C_star31': C_star_array[2,0], 'C_star32': C_star_array[2,1], 'C_star33': C_star_array[2,2], 'C_star34': C_star_array[2,3],\n",
    "    'C_star41': C_star_array[3,0], 'C_star42': C_star_array[3,1], 'C_star43': C_star_array[3,2], 'C_star44': C_star_array[3,3],\n",
    "}\n",
    "\n",
    "C_subs = {sp.Symbol(k): v for k, v in C_star_num.items()}\n",
    "\n",
    "\n",
    "jacobian_new= jacobian.subs(C_subs)\n"
   ]
  },
  {
   "cell_type": "code",
   "execution_count": 125,
   "metadata": {},
   "outputs": [
    {
     "data": {
      "text/plain": [
       "{C_star11: 0.00016993874808664535,\n",
       " C_star12: -0.007902576256191304,\n",
       " C_star13: 0.0,\n",
       " C_star14: 0.0,\n",
       " C_star21: -0.007902576256191304,\n",
       " C_star22: 29.41742170620834,\n",
       " C_star23: 0.0,\n",
       " C_star24: 0.0,\n",
       " C_star31: 0.0,\n",
       " C_star32: 0.0,\n",
       " C_star33: 0.0,\n",
       " C_star34: 0.0,\n",
       " C_star41: 0.0,\n",
       " C_star42: 0.0,\n",
       " C_star43: 0.0,\n",
       " C_star44: 0.0}"
      ]
     },
     "metadata": {},
     "output_type": "display_data"
    }
   ],
   "source": [
    "display(C_subs)"
   ]
  },
  {
   "cell_type": "code",
   "execution_count": 126,
   "metadata": {},
   "outputs": [
    {
     "data": {
      "text/latex": [
       "$\\displaystyle \\left[\\begin{array}{ccccccccccc}2 W_{11} & W_{12} & W_{13} & W_{14} & 0 & 0 & 0 & 0 & 0 & 0 & 0.000339877496173291 L_{11} - 0.0079025762561913 L_{12}\\\\W_{21} & W_{11} + W_{22} & W_{23} & W_{24} & W_{12} & 0 & 0 & 0 & 0 & 0 & - 0.0079025762561913 L_{11} + 29.4174217062083 L_{12} + 0.000169938748086645 L_{21} - 0.0079025762561913 L_{22}\\\\W_{31} & W_{32} & W_{11} + W_{33} & W_{34} & 0 & W_{12} & 0 & W_{13} & 0 & 0 & 0.000169938748086645 L_{31} - 0.0079025762561913 L_{32}\\\\W_{41} & W_{42} & W_{43} & W_{11} + W_{44} & 0 & 0 & W_{12} & 0 & W_{13} & W_{14} & 0.000169938748086645 L_{41} - 0.0079025762561913 L_{42}\\\\0 & W_{21} & 0 & 0 & 2 W_{22} & W_{23} & W_{24} & 0 & 0 & 0 & - 0.0079025762561913 L_{21} + 58.8348434124167 L_{22}\\\\0 & 0 & W_{21} & 0 & W_{32} & W_{22} + W_{33} & W_{34} & W_{23} & 0 & 0 & 29.4174217062083 L_{32}\\\\0 & 0 & 0 & W_{21} & W_{42} & W_{43} & W_{22} + W_{44} & 0 & W_{23} & W_{24} & 29.4174217062083 L_{42}\\\\0 & 0 & W_{31} & 0 & 0 & W_{32} & 0 & 2 W_{33} & W_{34} & 0 & 0\\\\0 & 0 & 0 & W_{31} & 0 & 0 & W_{32} & W_{43} & W_{33} + W_{44} & W_{34} & 0\\\\0 & 0 & 0 & W_{41} & 0 & 0 & W_{42} & 0 & W_{43} & 2 W_{44} & 0\\\\0 & 0 & \\alpha & 0 & 0 & 0 & 0 & 0 & 0 & 0 & - r\\end{array}\\right]$"
      ],
      "text/plain": [
       "Matrix([\n",
       "[2*W11,       W12,       W13,       W14,     0,         0,         0,     0,         0,     0,                                                  0.000339877496173291*L11 - 0.0079025762561913*L12],\n",
       "[  W21, W11 + W22,       W23,       W24,   W12,         0,         0,     0,         0,     0, -0.0079025762561913*L11 + 29.4174217062083*L12 + 0.000169938748086645*L21 - 0.0079025762561913*L22],\n",
       "[  W31,       W32, W11 + W33,       W34,     0,       W12,         0,   W13,         0,     0,                                                  0.000169938748086645*L31 - 0.0079025762561913*L32],\n",
       "[  W41,       W42,       W43, W11 + W44,     0,         0,       W12,     0,       W13,   W14,                                                  0.000169938748086645*L41 - 0.0079025762561913*L42],\n",
       "[    0,       W21,         0,         0, 2*W22,       W23,       W24,     0,         0,     0,                                                     -0.0079025762561913*L21 + 58.8348434124167*L22],\n",
       "[    0,         0,       W21,         0,   W32, W22 + W33,       W34,   W23,         0,     0,                                                                               29.4174217062083*L32],\n",
       "[    0,         0,         0,       W21,   W42,       W43, W22 + W44,     0,       W23,   W24,                                                                               29.4174217062083*L42],\n",
       "[    0,         0,       W31,         0,     0,       W32,         0, 2*W33,       W34,     0,                                                                                                  0],\n",
       "[    0,         0,         0,       W31,     0,         0,       W32,   W43, W33 + W44,   W34,                                                                                                  0],\n",
       "[    0,         0,         0,       W41,     0,         0,       W42,     0,       W43, 2*W44,                                                                                                  0],\n",
       "[    0,         0,     alpha,         0,     0,         0,         0,     0,         0,     0,                                                                                                 -r]])"
      ]
     },
     "metadata": {},
     "output_type": "display_data"
    }
   ],
   "source": [
    "display(jacobian_new)"
   ]
  },
  {
   "cell_type": "code",
   "execution_count": 127,
   "metadata": {},
   "outputs": [],
   "source": [
    "W_symbols = sp.symbols(' '.join([f'W{i+1}{j+1}' for i in range(4) for j in range(4)]))\n",
    "L_symbols = sp.symbols(' '.join([f'L{i+1}{j+1}' for i in range(4) for j in range(4)]))\n",
    "\n",
    "W_sym = sp.Matrix(4, 4, W_symbols)\n",
    "L_sym = sp.Matrix(4, 4, L_symbols)\n",
    "\n",
    "subs_dict_W = {W_symbols[i*4 + j]: W_array[i, j] for i in range(4) for j in range(4)}\n",
    "subs_dict_L = {L_symbols[i*4 + j]: L_array[i, j] for i in range(4) for j in range(4)}\n",
    "\n",
    "W_matrix_num = W_sym.subs(subs_dict_W)\n",
    "L_matrix_num = L_sym.subs(subs_dict_L)\n"
   ]
  },
  {
   "cell_type": "code",
   "execution_count": 128,
   "metadata": {},
   "outputs": [],
   "source": [
    "jacobian_new = jacobian_new.subs(subs_dict_W)\n",
    "jacobian_new = jacobian_new.subs(subs_dict_L)\n",
    "\n",
    "r = 0.1\n",
    "subs_dict_r = {'r': r}\n",
    "jacobian_new = jacobian_new.subs(subs_dict_r)\n",
    "\n",
    "alpha = 0.25 * k * (k_plus**2 - k_e**2)\n",
    "subs_dict_alpha = {'alpha': alpha}\n",
    "jacobian_new = jacobian_new.subs(subs_dict_alpha)"
   ]
  },
  {
   "cell_type": "code",
   "execution_count": 129,
   "metadata": {},
   "outputs": [
    {
     "data": {
      "text/latex": [
       "$\\displaystyle \\left[\\begin{array}{ccccccccccc}-2.0 & 0.0212206590789194 & 0 & 0 & 0 & 0 & 0 & 0 & 0 & 0 & 0\\\\-3769.91118430775 & -2.0 & 0 & 0 & 0.0212206590789194 & 0 & 0 & 0 & 0 & 0 & 0\\\\0 & 0 & -2.0 & -0.00702154160699538 & 0 & 0.0212206590789194 & 0 & 0 & 0 & 0 & -9.42138216263384 \\cdot 10^{-5}\\\\0 & 0 & 3769.91118430775 & -2.0 & 0 & 0 & 0.0212206590789194 & 0 & 0 & 0 & 0.148960053065302\\\\0 & -3769.91118430775 & 0 & 0 & -2.0 & 0 & 0 & 0 & 0 & 0 & 0\\\\0 & 0 & -3769.91118430775 & 0 & 0 & -2.0 & -0.00702154160699538 & 0 & 0 & 0 & 0\\\\0 & 0 & 0 & -3769.91118430775 & 0 & 3769.91118430775 & -2.0 & 0 & 0 & 0 & -554.505335518662\\\\0 & 0 & 0 & 0 & 0 & 0 & 0 & -2.0 & -0.00702154160699538 & 0 & 0\\\\0 & 0 & 0 & 0 & 0 & 0 & 0 & 3769.91118430775 & -2.0 & -0.00702154160699538 & 0\\\\0 & 0 & 0 & 0 & 0 & 0 & 0 & 0 & 3769.91118430775 & -2.0 & 0\\\\0 & 0 & 33858.8541348874 & 0 & 0 & 0 & 0 & 0 & 0 & 0 & -0.1\\end{array}\\right]$"
      ],
      "text/plain": [
       "Matrix([\n",
       "[             -2.0, 0.0212206590789194,                 0,                    0,                  0,                  0,                    0,                0,                    0,                    0,                    0],\n",
       "[-3769.91118430775,               -2.0,                 0,                    0, 0.0212206590789194,                  0,                    0,                0,                    0,                    0,                    0],\n",
       "[                0,                  0,              -2.0, -0.00702154160699538,                  0, 0.0212206590789194,                    0,                0,                    0,                    0, -9.42138216263384e-5],\n",
       "[                0,                  0,  3769.91118430775,                 -2.0,                  0,                  0,   0.0212206590789194,                0,                    0,                    0,    0.148960053065302],\n",
       "[                0,  -3769.91118430775,                 0,                    0,               -2.0,                  0,                    0,                0,                    0,                    0,                    0],\n",
       "[                0,                  0, -3769.91118430775,                    0,                  0,               -2.0, -0.00702154160699538,                0,                    0,                    0,                    0],\n",
       "[                0,                  0,                 0,    -3769.91118430775,                  0,   3769.91118430775,                 -2.0,                0,                    0,                    0,    -554.505335518662],\n",
       "[                0,                  0,                 0,                    0,                  0,                  0,                    0,             -2.0, -0.00702154160699538,                    0,                    0],\n",
       "[                0,                  0,                 0,                    0,                  0,                  0,                    0, 3769.91118430775,                 -2.0, -0.00702154160699538,                    0],\n",
       "[                0,                  0,                 0,                    0,                  0,                  0,                    0,                0,     3769.91118430775,                 -2.0,                    0],\n",
       "[                0,                  0,  33858.8541348874,                    0,                  0,                  0,                    0,                0,                    0,                    0,                 -0.1]])"
      ]
     },
     "metadata": {},
     "output_type": "display_data"
    }
   ],
   "source": [
    "display(jacobian_new)"
   ]
  },
  {
   "cell_type": "code",
   "execution_count": 133,
   "metadata": {},
   "outputs": [
    {
     "name": "stdout",
     "output_type": "stream",
     "text": [
      "[-2.        +12.64911064j -2.        -12.64911064j\n",
      " -2.         +0.j         -1.80364271+15.03743366j\n",
      " -1.80364271-15.03743366j -3.72848768 +1.88411935j\n",
      " -3.72848768 -1.88411935j  2.96426078 +0.j\n",
      " -2.         +7.27606875j -2.         -7.27606875j\n",
      " -2.         +0.j        ]\n"
     ]
    }
   ],
   "source": [
    "from sympy import Matrix\n",
    "import numpy as np\n",
    "from scipy import linalg\n",
    "\n",
    "# Assuming jacobian_new is a SymPy matrix\n",
    "jacobian_sym = Matrix(jacobian_new)\n",
    "\n",
    "# Step 1: Simplify or numerically evaluate the matrix elements\n",
    "jacobian_sym_eval = jacobian_sym.applyfunc(lambda x: x.evalf())\n",
    "\n",
    "# Step 2: Convert to a NumPy array with numeric dtype\n",
    "jacobian_np = np.array(jacobian_sym_eval).astype(np.float64)\n",
    "\n",
    "# Step 3: Compute the max eigenvalue\n",
    "eigenvalues = linalg.eigvals(jacobian_np)\n",
    "print(eigenvalues)"
   ]
  },
  {
   "cell_type": "code",
   "execution_count": 135,
   "metadata": {},
   "outputs": [
    {
     "name": "stdout",
     "output_type": "stream",
     "text": [
      "2.9642607820726012\n"
     ]
    }
   ],
   "source": [
    "# calculate the maximum real part of the eigenvalues\n",
    "max_real_part = np.max(np.real(eigenvalues))\n",
    "print(max_real_part)"
   ]
  },
  {
   "cell_type": "code",
   "execution_count": null,
   "metadata": {},
   "outputs": [],
   "source": [
    "\n"
   ]
  },
  {
   "cell_type": "code",
   "execution_count": null,
   "metadata": {},
   "outputs": [],
   "source": []
  }
 ],
 "metadata": {
  "kernelspec": {
   "display_name": "torchgpu",
   "language": "python",
   "name": "python3"
  },
  "language_info": {
   "codemirror_mode": {
    "name": "ipython",
    "version": 3
   },
   "file_extension": ".py",
   "mimetype": "text/x-python",
   "name": "python",
   "nbconvert_exporter": "python",
   "pygments_lexer": "ipython3",
   "version": "3.10.12"
  }
 },
 "nbformat": 4,
 "nbformat_minor": 2
}
