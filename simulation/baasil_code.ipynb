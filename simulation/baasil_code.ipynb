{
 "cells": [
  {
   "cell_type": "code",
   "execution_count": 1,
   "metadata": {},
   "outputs": [
    {
     "name": "stdout",
     "output_type": "stream",
     "text": [
      "0.11930083334767606\n"
     ]
    }
   ],
   "source": [
    "import numpy as np\n",
    "import matplotlib.pyplot as plt\n",
    "\n",
    "# Constants\n",
    "epsilon = 0.01\n",
    "N_0_squared = 100\n",
    "r_m = 0.1\n",
    "k = 2 * np.pi * 6\n",
    "m = 2 * np.pi * 3\n",
    "m_u = 2 * np.pi * 7\n",
    "k_e_square = k**2 + m**2\n",
    "k_plus_square = k**2 + (m + m_u)**2\n",
    "\n",
    "# Define matrices for the system\n",
    "W_e = np.array([[-1, (k / k_e_square)], [-k * N_0_squared, -1]], dtype=float)\n",
    "W_plus = np.array([[-1, -k / k_plus_square], [k * N_0_squared, -1]], dtype=float)\n",
    "L_e_plus = np.array([[(-k / (2 * k_e_square)) * (k_plus_square - m_u**2), 0],\n",
    "                     [0, k / 2]], dtype=float)\n",
    "L_plus_e = np.array([[(-k / (2 * k_plus_square)) * (m_u**2 - k_e_square), 0],\n",
    "                     [0, -k / 2]], dtype=float)\n",
    "\n",
    "# Initial conditions\n",
    "phi_e = np.array([0.0, 0.0])  # Initial condition for phi_e\n",
    "phi_plus = np.array([0.0, 0.0])  # Initial condition for phi_plus\n",
    "U = 0.001  # Initial condition for U\n",
    "\n",
    "# Time parameters\n",
    "dt = 0.001  # Time step\n",
    "total_time = 200  # Total time for simulation\n",
    "num_steps = int(total_time / dt)  # Number of time steps\n",
    "\n",
    "# Initialize lists for storing simulation history\n",
    "phi_e_history = []\n",
    "phi_plus_history = []\n",
    "U_history = [U]\n",
    "R_vals = []\n",
    "\n",
    "# Initialize lists for calculations\n",
    "psi_e = []\n",
    "b_e = []\n",
    "phi_e_0 = []\n",
    "phi_plus_0 = []\n",
    "\n",
    "\n",
    "# Simulation loop\n",
    "for i in range(num_steps):\n",
    "    eta = np.random.normal(0, 1)  # Gaussian white noise\n",
    "    xi = np.array([2 * np.sqrt(2) * eta / np.sqrt(k_e_square), 0], dtype=float)\n",
    "\n",
    "    # Update equations\n",
    "    phi_e_dot = W_e @ phi_e + U * (L_e_plus @ phi_plus) + (np.sqrt(epsilon) * xi) / np.sqrt(dt)\n",
    "    phi_plus_dot = W_plus @ phi_plus + U * (L_plus_e @ phi_e)\n",
    "\n",
    "    # Euler integration\n",
    "    phi_e += phi_e_dot * dt\n",
    "    phi_plus += phi_plus_dot * dt\n",
    "    R = 0.25 * k * (k_plus_square - k_e_square) * phi_e[0] * phi_plus[0]\n",
    "    R_vals.append(R)\n",
    "    U_dot = R - r_m * U\n",
    "    U += U_dot * dt\n",
    "\n",
    "    # Record state variables\n",
    "    psi_e.append(phi_e[0])\n",
    "    b_e.append(phi_e[1])\n",
    "    phi_e_0.append(phi_e[0])\n",
    "    phi_plus_0.append(phi_plus[0])\n",
    "\n",
    "    # Record history for plotting\n",
    "    phi_e_history.append(phi_e.copy())\n",
    "    phi_plus_history.append(phi_plus.copy())\n",
    "    U_history.append(U)\n",
    "\n",
    "print(np.mean(U_history))"
   ]
  },
  {
   "cell_type": "code",
   "execution_count": 2,
   "metadata": {},
   "outputs": [
    {
     "name": "stdout",
     "output_type": "stream",
     "text": [
      "\n",
      "C_11: 8.8711471789788e-06\n",
      "C_12: -0.0005499077853178983\n",
      "C_22: 1.5925047367550489\n",
      "\n",
      "Calculated C_11: 1.1396895828081892e-05\n",
      "Calculated C_12: -0.0005239668908375156\n",
      "Calculated C_22: 1.9753086419753092\n"
     ]
    },
    {
     "ename": "ValueError",
     "evalue": "x and y must have same first dimension, but have shapes (200000,) and (200001,)",
     "output_type": "error",
     "traceback": [
      "\u001b[0;31m---------------------------------------------------------------------------\u001b[0m",
      "\u001b[0;31mValueError\u001b[0m                                Traceback (most recent call last)",
      "\u001b[1;32m/home/nurul/TheNurulNetwork_simplified/baasil_code.ipynb Cell 2\u001b[0m line \u001b[0;36m2\n\u001b[1;32m     <a href='vscode-notebook-cell:/home/nurul/TheNurulNetwork_simplified/baasil_code.ipynb#W5sZmlsZQ%3D%3D?line=20'>21</a>\u001b[0m \u001b[39m# Plot U vs time\u001b[39;00m\n\u001b[1;32m     <a href='vscode-notebook-cell:/home/nurul/TheNurulNetwork_simplified/baasil_code.ipynb#W5sZmlsZQ%3D%3D?line=21'>22</a>\u001b[0m plt\u001b[39m.\u001b[39mfigure(figsize\u001b[39m=\u001b[39m(\u001b[39m12\u001b[39m, \u001b[39m8\u001b[39m))\n\u001b[0;32m---> <a href='vscode-notebook-cell:/home/nurul/TheNurulNetwork_simplified/baasil_code.ipynb#W5sZmlsZQ%3D%3D?line=22'>23</a>\u001b[0m plt\u001b[39m.\u001b[39;49mplot(np\u001b[39m.\u001b[39;49marange(\u001b[39m0\u001b[39;49m, total_time, dt), U_history)\n\u001b[1;32m     <a href='vscode-notebook-cell:/home/nurul/TheNurulNetwork_simplified/baasil_code.ipynb#W5sZmlsZQ%3D%3D?line=23'>24</a>\u001b[0m plt\u001b[39m.\u001b[39mgrid()\n\u001b[1;32m     <a href='vscode-notebook-cell:/home/nurul/TheNurulNetwork_simplified/baasil_code.ipynb#W5sZmlsZQ%3D%3D?line=24'>25</a>\u001b[0m plt\u001b[39m.\u001b[39mtitle(\u001b[39m'\u001b[39m\u001b[39mU vs Time\u001b[39m\u001b[39m'\u001b[39m)\n",
      "File \u001b[0;32m~/venvs/torchgpu/lib/python3.10/site-packages/matplotlib/pyplot.py:2812\u001b[0m, in \u001b[0;36mplot\u001b[0;34m(scalex, scaley, data, *args, **kwargs)\u001b[0m\n\u001b[1;32m   2810\u001b[0m \u001b[39m@_copy_docstring_and_deprecators\u001b[39m(Axes\u001b[39m.\u001b[39mplot)\n\u001b[1;32m   2811\u001b[0m \u001b[39mdef\u001b[39;00m \u001b[39mplot\u001b[39m(\u001b[39m*\u001b[39margs, scalex\u001b[39m=\u001b[39m\u001b[39mTrue\u001b[39;00m, scaley\u001b[39m=\u001b[39m\u001b[39mTrue\u001b[39;00m, data\u001b[39m=\u001b[39m\u001b[39mNone\u001b[39;00m, \u001b[39m*\u001b[39m\u001b[39m*\u001b[39mkwargs):\n\u001b[0;32m-> 2812\u001b[0m     \u001b[39mreturn\u001b[39;00m gca()\u001b[39m.\u001b[39;49mplot(\n\u001b[1;32m   2813\u001b[0m         \u001b[39m*\u001b[39;49margs, scalex\u001b[39m=\u001b[39;49mscalex, scaley\u001b[39m=\u001b[39;49mscaley,\n\u001b[1;32m   2814\u001b[0m         \u001b[39m*\u001b[39;49m\u001b[39m*\u001b[39;49m({\u001b[39m\"\u001b[39;49m\u001b[39mdata\u001b[39;49m\u001b[39m\"\u001b[39;49m: data} \u001b[39mif\u001b[39;49;00m data \u001b[39mis\u001b[39;49;00m \u001b[39mnot\u001b[39;49;00m \u001b[39mNone\u001b[39;49;00m \u001b[39melse\u001b[39;49;00m {}), \u001b[39m*\u001b[39;49m\u001b[39m*\u001b[39;49mkwargs)\n",
      "File \u001b[0;32m~/venvs/torchgpu/lib/python3.10/site-packages/matplotlib/axes/_axes.py:1688\u001b[0m, in \u001b[0;36mAxes.plot\u001b[0;34m(self, scalex, scaley, data, *args, **kwargs)\u001b[0m\n\u001b[1;32m   1445\u001b[0m \u001b[39m\u001b[39m\u001b[39m\"\"\"\u001b[39;00m\n\u001b[1;32m   1446\u001b[0m \u001b[39mPlot y versus x as lines and/or markers.\u001b[39;00m\n\u001b[1;32m   1447\u001b[0m \n\u001b[0;32m   (...)\u001b[0m\n\u001b[1;32m   1685\u001b[0m \u001b[39m(``'green'``) or hex strings (``'#008000'``).\u001b[39;00m\n\u001b[1;32m   1686\u001b[0m \u001b[39m\"\"\"\u001b[39;00m\n\u001b[1;32m   1687\u001b[0m kwargs \u001b[39m=\u001b[39m cbook\u001b[39m.\u001b[39mnormalize_kwargs(kwargs, mlines\u001b[39m.\u001b[39mLine2D)\n\u001b[0;32m-> 1688\u001b[0m lines \u001b[39m=\u001b[39m [\u001b[39m*\u001b[39m\u001b[39mself\u001b[39m\u001b[39m.\u001b[39m_get_lines(\u001b[39m*\u001b[39margs, data\u001b[39m=\u001b[39mdata, \u001b[39m*\u001b[39m\u001b[39m*\u001b[39mkwargs)]\n\u001b[1;32m   1689\u001b[0m \u001b[39mfor\u001b[39;00m line \u001b[39min\u001b[39;00m lines:\n\u001b[1;32m   1690\u001b[0m     \u001b[39mself\u001b[39m\u001b[39m.\u001b[39madd_line(line)\n",
      "File \u001b[0;32m~/venvs/torchgpu/lib/python3.10/site-packages/matplotlib/axes/_base.py:311\u001b[0m, in \u001b[0;36m_process_plot_var_args.__call__\u001b[0;34m(self, data, *args, **kwargs)\u001b[0m\n\u001b[1;32m    309\u001b[0m     this \u001b[39m+\u001b[39m\u001b[39m=\u001b[39m args[\u001b[39m0\u001b[39m],\n\u001b[1;32m    310\u001b[0m     args \u001b[39m=\u001b[39m args[\u001b[39m1\u001b[39m:]\n\u001b[0;32m--> 311\u001b[0m \u001b[39myield from\u001b[39;00m \u001b[39mself\u001b[39;49m\u001b[39m.\u001b[39;49m_plot_args(\n\u001b[1;32m    312\u001b[0m     this, kwargs, ambiguous_fmt_datakey\u001b[39m=\u001b[39;49mambiguous_fmt_datakey)\n",
      "File \u001b[0;32m~/venvs/torchgpu/lib/python3.10/site-packages/matplotlib/axes/_base.py:504\u001b[0m, in \u001b[0;36m_process_plot_var_args._plot_args\u001b[0;34m(self, tup, kwargs, return_kwargs, ambiguous_fmt_datakey)\u001b[0m\n\u001b[1;32m    501\u001b[0m     \u001b[39mself\u001b[39m\u001b[39m.\u001b[39maxes\u001b[39m.\u001b[39myaxis\u001b[39m.\u001b[39mupdate_units(y)\n\u001b[1;32m    503\u001b[0m \u001b[39mif\u001b[39;00m x\u001b[39m.\u001b[39mshape[\u001b[39m0\u001b[39m] \u001b[39m!=\u001b[39m y\u001b[39m.\u001b[39mshape[\u001b[39m0\u001b[39m]:\n\u001b[0;32m--> 504\u001b[0m     \u001b[39mraise\u001b[39;00m \u001b[39mValueError\u001b[39;00m(\u001b[39mf\u001b[39m\u001b[39m\"\u001b[39m\u001b[39mx and y must have same first dimension, but \u001b[39m\u001b[39m\"\u001b[39m\n\u001b[1;32m    505\u001b[0m                      \u001b[39mf\u001b[39m\u001b[39m\"\u001b[39m\u001b[39mhave shapes \u001b[39m\u001b[39m{\u001b[39;00mx\u001b[39m.\u001b[39mshape\u001b[39m}\u001b[39;00m\u001b[39m and \u001b[39m\u001b[39m{\u001b[39;00my\u001b[39m.\u001b[39mshape\u001b[39m}\u001b[39;00m\u001b[39m\"\u001b[39m)\n\u001b[1;32m    506\u001b[0m \u001b[39mif\u001b[39;00m x\u001b[39m.\u001b[39mndim \u001b[39m>\u001b[39m \u001b[39m2\u001b[39m \u001b[39mor\u001b[39;00m y\u001b[39m.\u001b[39mndim \u001b[39m>\u001b[39m \u001b[39m2\u001b[39m:\n\u001b[1;32m    507\u001b[0m     \u001b[39mraise\u001b[39;00m \u001b[39mValueError\u001b[39;00m(\u001b[39mf\u001b[39m\u001b[39m\"\u001b[39m\u001b[39mx and y can be no greater than 2D, but have \u001b[39m\u001b[39m\"\u001b[39m\n\u001b[1;32m    508\u001b[0m                      \u001b[39mf\u001b[39m\u001b[39m\"\u001b[39m\u001b[39mshapes \u001b[39m\u001b[39m{\u001b[39;00mx\u001b[39m.\u001b[39mshape\u001b[39m}\u001b[39;00m\u001b[39m and \u001b[39m\u001b[39m{\u001b[39;00my\u001b[39m.\u001b[39mshape\u001b[39m}\u001b[39;00m\u001b[39m\"\u001b[39m)\n",
      "\u001b[0;31mValueError\u001b[0m: x and y must have same first dimension, but have shapes (200000,) and (200001,)"
     ]
    },
    {
     "data": {
      "image/png": "[encoded data removed]",
      "text/plain": [
       "<Figure size 1200x800 with 1 Axes>"
      ]
     },
     "metadata": {},
     "output_type": "display_data"
    }
   ],
   "source": [
    "# Convert lists to NumPy arrays for analysis\n",
    "psi_e = np.array(psi_e)\n",
    "b_e = np.array(b_e)\n",
    "\n",
    "# Calculate and print correlation functions\n",
    "C_11 = np.average(np.square(psi_e))\n",
    "C_12 = np.average(psi_e * b_e)\n",
    "C_22 = np.average(np.square(b_e))\n",
    "print(\"\\nC_11:\", C_11)\n",
    "print(\"C_12:\", C_12)\n",
    "print(\"C_22:\", C_22)\n",
    "\n",
    "# Calculate theoretical correlation functions\n",
    "c11_theoretical = ((2 * epsilon) / k_e_square) * (2 - ((k**2 * N_0_squared) / (k_e_square + (k**2) * N_0_squared)))\n",
    "c12_theoretical = -(2 * epsilon * k * N_0_squared) / (k_e_square + k**2 * N_0_squared)\n",
    "c22_theoretical = (2 * epsilon) * k**2 * N_0_squared**2 / (k_e_square + k**2 * N_0_squared)\n",
    "print(\"\\nCalculated C_11:\", c11_theoretical)\n",
    "print(\"Calculated C_12:\", c12_theoretical)\n",
    "print(\"Calculated C_22:\", c22_theoretical)\n",
    "\n",
    "# Plot U vs time\n",
    "plt.figure(figsize=(12, 8))\n",
    "plt.plot(np.arange(0, total_time, dt), U_history)\n",
    "plt.grid()\n",
    "plt.title('U vs Time')\n",
    "plt.xlabel('Time')\n",
    "plt.ylabel('U')\n",
    "plt.show()\n",
    "\n",
    "# Plot R vs time\n",
    "plt.figure(figsize=(12, 8))\n",
    "plt.plot(np.arange(0, total_time, dt), R_vals)\n",
    "plt.grid()\n",
    "plt.title('R vs Time')\n",
    "plt.xlabel('Time')\n",
    "plt.ylabel('R')\n",
    "plt.show()"
   ]
  },
  {
   "cell_type": "code",
   "execution_count": null,
   "metadata": {},
   "outputs": [],
   "source": []
  }
 ],
 "metadata": {
  "kernelspec": {
   "display_name": "torchgpu",
   "language": "python",
   "name": "python3"
  },
  "language_info": {
   "codemirror_mode": {
    "name": "ipython",
    "version": 3
   },
   "file_extension": ".py",
   "mimetype": "text/x-python",
   "name": "python",
   "nbconvert_exporter": "python",
   "pygments_lexer": "ipython3",
   "version": "3.10.12"
  }
 },
 "nbformat": 4,
 "nbformat_minor": 2
}
